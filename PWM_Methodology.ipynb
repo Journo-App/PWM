{
 "cells": [
  {
   "cell_type": "markdown",
   "metadata": {},
   "source": [
    "\n",
    "#Methodology\n",
    "#\"ShoutYourAbortion:\" Power, Women and the Media\n",
    "##Angela Woodall\n",
    "\n"
   ]
  },
  {
   "cell_type": "markdown",
   "metadata": {},
   "source": [
    "###News Media \n",
    "\n",
    "Using LexisNexis I searched for the keyword \"abortion\" in The New York Times between July 1 and Aug. 1, 2015, nearly two weeks before and two weeks after the July 14, 2015 release of the video. Of the 60 results returned, I sorted the coverage into news articles and omitted op-eds, blogs, opinions and letters to the editor. That left a sample of 35. \n",
    "\n",
    "To help account for the potential for incomplete news archive searches, I restricted the initial sample to stories that appeared in the print edition of The New York Times during the specified dates.\n",
    "\n",
    "Six categories were coded: \n",
    "The sex of the reporter: male or female\n",
    "Did the reporter quote a \"real\" woman \n",
    "Did the reporter quote a woman with an official capacity within the context of the story \n",
    "Was the coverage directly related to an election \n",
    "Was a Republican the dominant voice in the article\n",
    "Did the coverage focus on politics \n",
    "\n",
    "The purpose in examining the categories is to understand how reporters are telling stories about abortion, in particular the frames and rhetoric used to tell them. \n",
    "\n",
    "A woman with an official capacity is a person the reporter sought out as an authority on an issue, such as an organization's spokeswoman, an executive, doctor, clergy or lawmaker. A \"real\" woman is defined as a woman with no public visibility. \n",
    "\n",
    "I chose The New Times as the primary focus of analysis because of its reputation and circulation. The paper now rejects its role as a \"paper of record\" that implied \"an omniscient chronicler of events, an arbiter that perfectly captures the significance and import of a day in our lives.\" \n",
    "\n",
    "But the Times still presents itself and is considered as an authority that carries \"All the news that's fit to print.\" The paper's nickname is \"the Gray Lady.\"    Okrent, Daniel. \n",
    "A 2014 Opinion Leaders Study characterized the image the Times has acquired and still tries to maintain: \n",
    "\n",
    "For an insightful view of the world, there’s no paper like The New York Times. For more than 150 years, Times readers have expected their newspaper to provide the most thorough and uncompromising coverage in the world. The Times has won more Pulitzer prizes than any other news organization and remains No. 1 in overall reach of U.S. opinion leaders.\n",
    "\n"
   ]
  },
  {
   "cell_type": "markdown",
   "metadata": {},
   "source": [
    "###Social Media \n",
    "\n",
    "Originally I planned to use the Twitter Application Programming Interface (REST API v1.1) to collect tweets with the hashtag #abortion. The API is a feature of Twitter that allows direct access to some Twitter data from a user's computer. But the ability to narrow down tweets by past dates only exists through the search engine. \n",
    "\n",
    "Instead, I searched tweets for the word \"abortion\" between July 1 and Aug. 1, 2015 using Twitter's built-in search engine.\n",
    "\n",
    "I then extracted a sample of the results posted by women, leaving out tweets by institutions, men or, as much as possible, women speaking on behalf of organizations. Also excluded were tweets by users who I could not clearly identify as women because their profiles and/or photos were ambiguous. I did however include several by female reporters who posted stories about abortion. \n",
    "\n",
    "Also included in this analysis are specific campaigns that used Twitter and their ripple effect on other social media platforms such as Facebook and Storify.  \n",
    "\n",
    "I chose Twitter because of its function as a \"user-controlled firehose\" (Stevenson, 2014). This firehose analogy comes with a caveat though because the site introduced abuse filters, leading to automatically filtered content and \"disappearing tweets\" (Ohlheiser, 2015).  \n",
    "\n",
    "Even with this caveat and the restricted sample, the tweets represent real-time and real-world responses to the video controversy, the proposed cuts to Planned Parenthood and, more generally, the continuing attempts to restrict access to abortion and the push back against those efforts. Stevenson (2014) provides a helpful analogy: While tweeting is not equivalent to marching in the streets, it is something more than privately holding an opinion, and thus analyzing tweets measures an avenue of action available to anyone who uses Twitter. \n",
    "\n",
    "That is rich data for this paper whose approach is rooted in looking for common themes and concepts as described by Elmore's analysis (2008) of language choices in news about abortion. She writes, evoking Corbin and Strauss' principles of grounded theory (1965, 1990) that, \"It was the 'repeated' presence of the concepts in multiple articles that lent them credibility and supported the effort to resist researcher preconceptions and conceptual favoritism.\" \n",
    "\n"
   ]
  },
  {
   "cell_type": "code",
   "execution_count": null,
   "metadata": {
    "collapsed": true
   },
   "outputs": [],
   "source": []
  }
 ],
 "metadata": {
  "kernelspec": {
   "display_name": "Python 3",
   "language": "python",
   "name": "python3"
  },
  "language_info": {
   "codemirror_mode": {
    "name": "ipython",
    "version": 3
   },
   "file_extension": ".py",
   "mimetype": "text/x-python",
   "name": "python",
   "nbconvert_exporter": "python",
   "pygments_lexer": "ipython3",
   "version": "3.4.3"
  }
 },
 "nbformat": 4,
 "nbformat_minor": 0
}
